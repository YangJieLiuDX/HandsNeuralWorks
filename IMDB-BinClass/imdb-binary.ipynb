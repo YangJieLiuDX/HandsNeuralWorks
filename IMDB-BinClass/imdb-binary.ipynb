{
 "cells": [
  {
   "cell_type": "markdown",
   "metadata": {},
   "source": [
    "# IMDB 电影评论分类\n",
    "工具：Keras"
   ]
  },
  {
   "cell_type": "code",
   "execution_count": 1,
   "metadata": {},
   "outputs": [
    {
     "name": "stderr",
     "output_type": "stream",
     "text": [
      "Using TensorFlow backend.\n"
     ]
    }
   ],
   "source": [
    "from keras.datasets import imdb\n",
    "from keras import models\n",
    "from keras import layers"
   ]
  },
  {
   "cell_type": "code",
   "execution_count": 4,
   "metadata": {},
   "outputs": [],
   "source": [
    "#加载数据集\n",
    "(train_data,train_labels), (test_data,test_labels) = imdb.load_data(num_words=10000)"
   ]
  },
  {
   "cell_type": "code",
   "execution_count": 5,
   "metadata": {},
   "outputs": [
    {
     "name": "stdout",
     "output_type": "stream",
     "text": [
      "(25000,)\n"
     ]
    }
   ],
   "source": [
    "print(train_data.shape)"
   ]
  },
  {
   "cell_type": "code",
   "execution_count": 6,
   "metadata": {},
   "outputs": [
    {
     "name": "stdout",
     "output_type": "stream",
     "text": [
      "[1, 14, 22, 16, 43, 530, 973, 1622, 1385, 65, 458, 4468, 66, 3941, 4, 173, 36, 256, 5, 25, 100, 43, 838, 112, 50, 670, 2, 9, 35, 480, 284, 5, 150, 4, 172, 112, 167, 2, 336, 385, 39, 4, 172, 4536, 1111, 17, 546, 38, 13, 447, 4, 192, 50, 16, 6, 147, 2025, 19, 14, 22, 4, 1920, 4613, 469, 4, 22, 71, 87, 12, 16, 43, 530, 38, 76, 15, 13, 1247, 4, 22, 17, 515, 17, 12, 16, 626, 18, 2, 5, 62, 386, 12, 8, 316, 8, 106, 5, 4, 2223, 5244, 16, 480, 66, 3785, 33, 4, 130, 12, 16, 38, 619, 5, 25, 124, 51, 36, 135, 48, 25, 1415, 33, 6, 22, 12, 215, 28, 77, 52, 5, 14, 407, 16, 82, 2, 8, 4, 107, 117, 5952, 15, 256, 4, 2, 7, 3766, 5, 723, 36, 71, 43, 530, 476, 26, 400, 317, 46, 7, 4, 2, 1029, 13, 104, 88, 4, 381, 15, 297, 98, 32, 2071, 56, 26, 141, 6, 194, 7486, 18, 4, 226, 22, 21, 134, 476, 26, 480, 5, 144, 30, 5535, 18, 51, 36, 28, 224, 92, 25, 104, 4, 226, 65, 16, 38, 1334, 88, 12, 16, 283, 5, 16, 4472, 113, 103, 32, 15, 16, 5345, 19, 178, 32]\n"
     ]
    }
   ],
   "source": [
    "print(train_data[0])"
   ]
  },
  {
   "cell_type": "code",
   "execution_count": 16,
   "metadata": {},
   "outputs": [],
   "source": [
    "import numpy as np\n",
    "def vectorize_squences(sequences,dimension=10000):\n",
    "    #将列表数据 numpy化，同时one-hot编码\n",
    "    results = np.zeros((len(sequences),dimension))\n",
    "    for i,sequence in enumerate(sequences):\n",
    "        results[i,sequence] = 1\n",
    "    return results"
   ]
  },
  {
   "cell_type": "code",
   "execution_count": 17,
   "metadata": {},
   "outputs": [],
   "source": [
    "# raw data 预处理\n",
    "x_train = vectorize_squences(train_data)\n",
    "x_test = vectorize_squences(test_data)\n",
    "\n",
    "y_train = np.asarray(train_labels).astype('float32')\n",
    "y_test = np.asarray(test_labels).astype('float32')"
   ]
  },
  {
   "cell_type": "code",
   "execution_count": 18,
   "metadata": {},
   "outputs": [],
   "source": [
    "# 定义网络模型\n",
    "model = models.Sequential()\n",
    "\n",
    "model.add(layers.Dense(16,activation='relu',input_shape=(10000,)))\n",
    "model.add(layers.Dense(16,activation='relu'))\n",
    "model.add(layers.Dense(1,activation='sigmoid'))"
   ]
  },
  {
   "cell_type": "code",
   "execution_count": 19,
   "metadata": {},
   "outputs": [],
   "source": [
    "# compile\n",
    "model.compile(optimizer='rmsprop',loss='binary_crossentropy',metrics=['accuracy'])"
   ]
  },
  {
   "cell_type": "code",
   "execution_count": 22,
   "metadata": {},
   "outputs": [
    {
     "name": "stdout",
     "output_type": "stream",
     "text": [
      "Train on 17000 samples, validate on 8000 samples\n",
      "Epoch 1/10\n",
      "17000/17000 [==============================] - 2s 99us/step - loss: 0.0407 - acc: 0.9904 - val_loss: 0.4216 - val_acc: 0.8764\n",
      "Epoch 2/10\n",
      "17000/17000 [==============================] - 2s 99us/step - loss: 0.0323 - acc: 0.9929 - val_loss: 0.4524 - val_acc: 0.8759\n",
      "Epoch 3/10\n",
      "17000/17000 [==============================] - 2s 99us/step - loss: 0.0265 - acc: 0.9940 - val_loss: 0.4879 - val_acc: 0.8736\n",
      "Epoch 4/10\n",
      "17000/17000 [==============================] - 2s 100us/step - loss: 0.0186 - acc: 0.9971 - val_loss: 0.5306 - val_acc: 0.8697\n",
      "Epoch 5/10\n",
      "17000/17000 [==============================] - 2s 100us/step - loss: 0.0169 - acc: 0.9972 - val_loss: 0.5520 - val_acc: 0.8701\n",
      "Epoch 6/10\n",
      "17000/17000 [==============================] - 2s 101us/step - loss: 0.0112 - acc: 0.9991 - val_loss: 0.5766 - val_acc: 0.8714\n",
      "Epoch 7/10\n",
      "17000/17000 [==============================] - 2s 100us/step - loss: 0.0120 - acc: 0.9977 - val_loss: 0.6065 - val_acc: 0.8706\n",
      "Epoch 8/10\n",
      "17000/17000 [==============================] - 2s 99us/step - loss: 0.0056 - acc: 0.9997 - val_loss: 0.7054 - val_acc: 0.8578\n",
      "Epoch 9/10\n",
      "17000/17000 [==============================] - 2s 99us/step - loss: 0.0071 - acc: 0.9991 - val_loss: 0.6716 - val_acc: 0.8679\n",
      "Epoch 10/10\n",
      "17000/17000 [==============================] - 2s 99us/step - loss: 0.0027 - acc: 0.9999 - val_loss: 0.7428 - val_acc: 0.8611\n"
     ]
    }
   ],
   "source": [
    "x_val = x_train[:8000]\n",
    "y_val = y_train[:8000]\n",
    "partial_x_train = x_train[8000:]\n",
    "partial_y_train = y_train[8000:]\n",
    "# train\n",
    "history = model.fit(partial_x_train,partial_y_train,epochs=10,batch_size=512,validation_data=(x_val,y_val))"
   ]
  },
  {
   "cell_type": "code",
   "execution_count": 23,
   "metadata": {},
   "outputs": [
    {
     "data": {
      "text/plain": [
       "{'val_loss': [0.4215784363746643,\n",
       "  0.45237259125709534,\n",
       "  0.48791265535354617,\n",
       "  0.5305930500030518,\n",
       "  0.5519799375534058,\n",
       "  0.5766066222190857,\n",
       "  0.6065014877319336,\n",
       "  0.7054068264961243,\n",
       "  0.6716374254226685,\n",
       "  0.742817400932312],\n",
       " 'val_acc': [0.876375,\n",
       "  0.8758749990463257,\n",
       "  0.8736250009536743,\n",
       "  0.8697499990463257,\n",
       "  0.8701250009536743,\n",
       "  0.8713749990463256,\n",
       "  0.8706249995231629,\n",
       "  0.85775,\n",
       "  0.8678750004768372,\n",
       "  0.8611250004768372],\n",
       " 'loss': [0.04068697059680434,\n",
       "  0.03225468056166873,\n",
       "  0.02650549972407958,\n",
       "  0.01862649427792605,\n",
       "  0.016891134937896447,\n",
       "  0.011222708706031828,\n",
       "  0.011975410714307253,\n",
       "  0.005600719335324624,\n",
       "  0.007083956230979632,\n",
       "  0.0027455755632151578],\n",
       " 'acc': [0.9904117648461286,\n",
       "  0.9928823530814227,\n",
       "  0.9940000001402463,\n",
       "  0.9970588234452641,\n",
       "  0.9971764707284815,\n",
       "  0.9990588235294118,\n",
       "  0.9977058823529412,\n",
       "  0.9997058823529412,\n",
       "  0.9990588235294118,\n",
       "  0.9999411764705882]}"
      ]
     },
     "execution_count": 23,
     "metadata": {},
     "output_type": "execute_result"
    }
   ],
   "source": [
    "history.history"
   ]
  },
  {
   "cell_type": "code",
   "execution_count": 25,
   "metadata": {},
   "outputs": [
    {
     "name": "stdout",
     "output_type": "stream",
     "text": [
      "dict_keys(['val_loss', 'val_acc', 'loss', 'acc'])\n"
     ]
    }
   ],
   "source": [
    "print(history.history.keys())"
   ]
  },
  {
   "cell_type": "code",
   "execution_count": 30,
   "metadata": {},
   "outputs": [
    {
     "data": {
      "image/png": "[encoded data removed]",
      "text/plain": [
       "<Figure size 432x288 with 1 Axes>"
      ]
     },
     "metadata": {},
     "output_type": "display_data"
    }
   ],
   "source": [
    "# 画图观察损失函数变化情况\n",
    "import matplotlib.pyplot as plt\n",
    "%matplotlib inline\n",
    "\n",
    "history_dict = history.history\n",
    "train_loss = history_dict['loss']\n",
    "val_loss = history_dict['val_loss']\n",
    "\n",
    "epochs = range(1,len(train_loss)+1)\n",
    "plt.plot(epochs, train_loss,'b',label='Training loss')\n",
    "plt.plot(epochs, val_loss,'bo',label='Validation loss')\n",
    "\n",
    "plt.title('Training and Validation loss')\n",
    "plt.xlabel('Epochs')\n",
    "plt.ylabel('Loss')\n",
    "plt.legend()\n",
    "\n",
    "plt.show()"
   ]
  },
  {
   "cell_type": "code",
   "execution_count": 31,
   "metadata": {},
   "outputs": [
    {
     "data": {
      "image/png": "[encoded data removed]",
      "text/plain": [
       "<Figure size 432x288 with 1 Axes>"
      ]
     },
     "metadata": {},
     "output_type": "display_data"
    }
   ],
   "source": [
    "plt.clf()\n",
    "train_acc = history_dict['acc']\n",
    "val_acc = history_dict['val_acc']\n",
    "plt.plot(epochs, train_acc, 'b', label='Training acc')\n",
    "plt.plot(epochs, val_acc, 'bo', label='Validation acc')\n",
    "plt.title('Training and validation accuracy')\n",
    "plt.xlabel('Epochs')\n",
    "plt.ylabel('Loss')\n",
    "plt.legend()\n",
    "\n",
    "plt.show()"
   ]
  },
  {
   "cell_type": "markdown",
   "metadata": {},
   "source": [
    "训练集和测试集上表现差异太大。模型发生过拟合。在epoch=4时停止训练"
   ]
  },
  {
   "cell_type": "code",
   "execution_count": 32,
   "metadata": {},
   "outputs": [
    {
     "name": "stdout",
     "output_type": "stream",
     "text": [
      "Epoch 1/4\n",
      "25000/25000 [==============================] - 2s 82us/step - loss: 0.4532 - acc: 0.8321\n",
      "Epoch 2/4\n",
      "25000/25000 [==============================] - 2s 72us/step - loss: 0.2654 - acc: 0.9068\n",
      "Epoch 3/4\n",
      "25000/25000 [==============================] - 2s 72us/step - loss: 0.2031 - acc: 0.9288\n",
      "Epoch 4/4\n",
      "25000/25000 [==============================] - 2s 72us/step - loss: 0.1711 - acc: 0.9384\n"
     ]
    }
   ],
   "source": [
    "#重新训练\n",
    "model = models.Sequential()\n",
    "\n",
    "model.add(layers.Dense(16,activation='relu',input_shape=(10000,)))\n",
    "model.add(layers.Dense(16,activation='relu'))\n",
    "model.add(layers.Dense(1,activation='sigmoid'))\n",
    "\n",
    "model.compile(optimizer='rmsprop',loss='binary_crossentropy',metrics=['acc'])\n",
    "\n",
    "history = model.fit(x_train,y_train,epochs=4,batch_size=512)"
   ]
  },
  {
   "cell_type": "code",
   "execution_count": 34,
   "metadata": {},
   "outputs": [
    {
     "name": "stdout",
     "output_type": "stream",
     "text": [
      "25000/25000 [==============================] - 1s 51us/step\n"
     ]
    }
   ],
   "source": [
    "#使用训练好的模型进行评估\n",
    "results = model.evaluate(x_test,y_test)"
   ]
  },
  {
   "cell_type": "code",
   "execution_count": 35,
   "metadata": {},
   "outputs": [
    {
     "data": {
      "text/plain": [
       "[0.2896917193317413, 0.88512]"
      ]
     },
     "execution_count": 35,
     "metadata": {},
     "output_type": "execute_result"
    }
   ],
   "source": [
    "results"
   ]
  },
  {
   "cell_type": "markdown",
   "metadata": {},
   "source": [
    "准确率为88%"
   ]
  },
  {
   "cell_type": "code",
   "execution_count": 36,
   "metadata": {},
   "outputs": [
    {
     "data": {
      "text/plain": [
       "array([[0.21442494],\n",
       "       [0.9999275 ],\n",
       "       [0.8590876 ],\n",
       "       ...,\n",
       "       [0.1130496 ],\n",
       "       [0.08924533],\n",
       "       [0.7394258 ]], dtype=float32)"
      ]
     },
     "execution_count": 36,
     "metadata": {},
     "output_type": "execute_result"
    }
   ],
   "source": [
    "#使用训练好的模型进行预测\n",
    "model.predict(x_test)"
   ]
  },
  {
   "cell_type": "code",
   "execution_count": 40,
   "metadata": {},
   "outputs": [],
   "source": [
    "#看原始评论数据---第二条\n",
    "word_index = imdb.get_word_index()\n",
    "reverse_word_index = dict(\n",
    "[(value, key) for (key, value) in word_index.items()])#得到 id-words 对应关系"
   ]
  },
  {
   "cell_type": "code",
   "execution_count": 45,
   "metadata": {},
   "outputs": [],
   "source": [
    "decoded_review = ' '.join(\n",
    "[reverse_word_index.get(i - 3, '?') for i in test_data[1]])"
   ]
  },
  {
   "cell_type": "code",
   "execution_count": 46,
   "metadata": {},
   "outputs": [
    {
     "data": {
      "text/plain": [
       "\"? this film requires a lot of patience because it focuses on mood and character development the plot is very simple and many of the scenes take place on the same set in frances ? the sandy dennis character apartment but the film builds to a disturbing climax br br the characters create an atmosphere ? with sexual tension and psychological ? it's very interesting that robert altman directed this considering the style and structure of his other films still the trademark altman audio style is evident here and there i think what really makes this film work is the brilliant performance by sandy dennis it's definitely one of her darker characters but she plays it so perfectly and convincingly that it's scary michael burns does a good job as the mute young man regular altman player michael murphy has a small part the ? moody set fits the content of the story very well in short this movie is a powerful study of loneliness sexual ? and desperation be patient ? up the atmosphere and pay attention to the wonderfully written script br br i praise robert altman this is one of his many films that deals with unconventional fascinating subject matter this film is disturbing but it's sincere and it's sure to ? a strong emotional response from the viewer if you want to see an unusual film some might even say bizarre this is worth the time br br unfortunately it's very difficult to find in video stores you may have to buy it off the internet\""
      ]
     },
     "execution_count": 46,
     "metadata": {},
     "output_type": "execute_result"
    }
   ],
   "source": [
    "decoded_review # 正面评估---预测正确"
   ]
  },
  {
   "cell_type": "code",
   "execution_count": null,
   "metadata": {},
   "outputs": [],
   "source": []
  }
 ],
 "metadata": {
  "kernelspec": {
   "display_name": "Python 3",
   "language": "python",
   "name": "python3"
  },
  "language_info": {
   "codemirror_mode": {
    "name": "ipython",
    "version": 3
   },
   "file_extension": ".py",
   "mimetype": "text/x-python",
   "name": "python",
   "nbconvert_exporter": "python",
   "pygments_lexer": "ipython3",
   "version": "3.6.5"
  }
 },
 "nbformat": 4,
 "nbformat_minor": 2
}
